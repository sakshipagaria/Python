{
 "cells": [
  {
   "cell_type": "markdown",
   "id": "66a5fdf0",
   "metadata": {},
   "source": [
    "#  Program to count the occurence of each word in a given string sentence"
   ]
  },
  {
   "cell_type": "markdown",
   "id": "e2afa0c0",
   "metadata": {},
   "source": [
    "### Program logic:"
   ]
  },
  {
   "cell_type": "raw",
   "id": "a009d341",
   "metadata": {},
   "source": [
    "     1.Write a function to count the occurence of each word.\n",
    "        1.Split the string into a list containing the words by using split function(i.e. String.split()) in python wit delimiter\n",
    "          space.\n",
    "            Note: string_names.split(seperator) method is used to split the string by specified seperator(delimiter)\n",
    "                  into the list.If delimiter is not provided then white space is a seperator.\n",
    "        2.Initialize a new empty list.\n",
    "        3.Now append the word to the new list from previous string if that word is not present in the new list. \n",
    "        4.Iterate over the new list and use count function \n",
    "            Note:string_name.count(substring) is used to find no. of occurence of substring in a given string.\n",
    "    2.Write main() function to call above function.\n",
    "    3.Call main() function"
   ]
  },
  {
   "cell_type": "markdown",
   "id": "bd810202",
   "metadata": {},
   "source": [
    "### Write the  function "
   ]
  },
  {
   "cell_type": "code",
   "execution_count": 36,
   "id": "e4608005",
   "metadata": {},
   "outputs": [],
   "source": [
    "def count_words(str):\n",
    "    str = str.split()\n",
    "    str2 = []       #empty list\n",
    "    \n",
    "    for i in str:\n",
    "        if i not in str2:\n",
    "            str2.append(i)\n",
    "            \n",
    "    for i in str2:\n",
    "            print(\"Frequency of {} is {}\".format(i,str.count(i)))"
   ]
  },
  {
   "cell_type": "markdown",
   "id": "2787287f",
   "metadata": {},
   "source": [
    "### create main() function to call count_words() function"
   ]
  },
  {
   "cell_type": "code",
   "execution_count": 34,
   "id": "a4d0a13b",
   "metadata": {},
   "outputs": [],
   "source": [
    "def main():\n",
    "    str=\"Apple Mango Grape Mango Apple Banana Grape Apple\"\n",
    "    count_words(str)"
   ]
  },
  {
   "cell_type": "markdown",
   "id": "5dd5e89b",
   "metadata": {},
   "source": [
    "### Driver function"
   ]
  },
  {
   "cell_type": "code",
   "execution_count": 37,
   "id": "bf3ef8b6",
   "metadata": {},
   "outputs": [
    {
     "name": "stdout",
     "output_type": "stream",
     "text": [
      "Frequency of Apple is 3\n",
      "Frequency of Mango is 2\n",
      "Frequency of Grape is 2\n",
      "Frequency of Banana is 1\n"
     ]
    }
   ],
   "source": [
    "if __name__ == \"__main__\":\n",
    "    main()"
   ]
  }
 ],
 "metadata": {
  "kernelspec": {
   "display_name": "Python 3 (ipykernel)",
   "language": "python",
   "name": "python3"
  },
  "language_info": {
   "codemirror_mode": {
    "name": "ipython",
    "version": 3
   },
   "file_extension": ".py",
   "mimetype": "text/x-python",
   "name": "python",
   "nbconvert_exporter": "python",
   "pygments_lexer": "ipython3",
   "version": "3.9.7"
  }
 },
 "nbformat": 4,
 "nbformat_minor": 5
}
