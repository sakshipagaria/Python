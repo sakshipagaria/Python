{
 "cells": [
  {
   "cell_type": "markdown",
   "metadata": {},
   "source": [
    "# LAB 8: Program to count the frequency of words appearing innstring in dictionary"
   ]
  },
  {
   "cell_type": "raw",
   "metadata": {},
   "source": [
    "Program logic:\n",
    "\n",
    "1.write the function with string as parameter\n",
    "   1. split the string using split fucniton\n",
    "   2.declare a list variable and intialize it to an empty list\n",
    "   3. iterate for loop to find unique word in string and store it in to list\n",
    "   4.count the freq of each word or store it into another list\n",
    "   5.iterate for loop to merge two list in dictionary  \n",
    "   6.return the dictionary\n",
    "2. Take input of string from user\n",
    "3. call the function and print the dictionary"
   ]
  },
  {
   "cell_type": "code",
   "execution_count": 12,
   "metadata": {},
   "outputs": [],
   "source": [
    "def freq_dict(str):\n",
    "    str = str.split()\n",
    "    str2 =[]\n",
    "    count_list=[]\n",
    "    dict = {}\n",
    "    for i in str:\n",
    "        if i not in str2:\n",
    "            str2.append(i)\n",
    "    for i in str2:\n",
    "        c = str.count(i)\n",
    "        count_list.append(c)\n",
    "        \n",
    "    for i in range (len(str2)):\n",
    "        dict[str2[i]] = count_list[i]\n",
    "        \n",
    "    return dict\n",
    "        "
   ]
  },
  {
   "cell_type": "code",
   "execution_count": 15,
   "metadata": {},
   "outputs": [
    {
     "name": "stdout",
     "output_type": "stream",
     "text": [
      "Enter the string here: apple mango apple grape mango banana \n",
      "Dictionary with frequency of word in string:  {'apple': 2, 'mango': 2, 'grape': 1, 'banana': 1}\n"
     ]
    }
   ],
   "source": [
    "str=input(\"Enter the string here: \")\n",
    "\n",
    "print(\"Dictionary with frequency of word in string: \",freq_dict(str))"
   ]
  }
 ],
 "metadata": {
  "kernelspec": {
   "display_name": "Python 3",
   "language": "python",
   "name": "python3"
  },
  "language_info": {
   "codemirror_mode": {
    "name": "ipython",
    "version": 3
   },
   "file_extension": ".py",
   "mimetype": "text/x-python",
   "name": "python",
   "nbconvert_exporter": "python",
   "pygments_lexer": "ipython3",
   "version": "3.7.3"
  }
 },
 "nbformat": 4,
 "nbformat_minor": 2
}
