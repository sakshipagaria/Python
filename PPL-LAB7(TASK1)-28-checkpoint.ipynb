{
 "cells": [
  {
   "cell_type": "markdown",
   "id": "bbd2106e",
   "metadata": {},
   "source": [
    "# TASK1: Program to map two lists into a dictionary using one line for loop"
   ]
  },
  {
   "cell_type": "markdown",
   "id": "8a4ccce0",
   "metadata": {},
   "source": [
    "## Program Logic:"
   ]
  },
  {
   "cell_type": "markdown",
   "id": "ff7d6e68",
   "metadata": {},
   "source": [
    "1. Declare one empty dicitonary\n",
    "2. Declare two lists\n",
    "3. Iterate the for loop to create the dictionary A. for key B for value\n",
    "4. Print the dictionary"
   ]
  },
  {
   "cell_type": "code",
   "execution_count": 1,
   "id": "ab11f285",
   "metadata": {},
   "outputs": [],
   "source": [
    "dict={}\n",
    "keylist=['A','B','C','D','E']\n",
    "valuelist=['Apple','Bat','Cap','Drone','Eagle']"
   ]
  },
  {
   "cell_type": "code",
   "execution_count": 5,
   "id": "066820fc",
   "metadata": {},
   "outputs": [],
   "source": [
    "result={keylist[i]: valuelist[i] for i in range(len(keylist))}"
   ]
  },
  {
   "cell_type": "code",
   "execution_count": 6,
   "id": "5e3a60d1",
   "metadata": {},
   "outputs": [
    {
     "name": "stdout",
     "output_type": "stream",
     "text": [
      "The Dicitonary is {'A': 'Apple', 'B': 'Bat', 'C': 'Cap', 'D': 'Drone', 'E': 'Eagle'}\n"
     ]
    }
   ],
   "source": [
    "print(\"The Dicitonary is {}\".format(result))"
   ]
  }
 ],
 "metadata": {
  "kernelspec": {
   "display_name": "Python 3 (ipykernel)",
   "language": "python",
   "name": "python3"
  },
  "language_info": {
   "codemirror_mode": {
    "name": "ipython",
    "version": 3
   },
   "file_extension": ".py",
   "mimetype": "text/x-python",
   "name": "python",
   "nbconvert_exporter": "python",
   "pygments_lexer": "ipython3",
   "version": "3.9.7"
  }
 },
 "nbformat": 4,
 "nbformat_minor": 5
}
