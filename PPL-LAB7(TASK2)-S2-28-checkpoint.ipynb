{
 "cells": [
  {
   "cell_type": "markdown",
   "id": "4965dd96",
   "metadata": {},
   "source": [
    "# TASK2:Program to map one list into dictionary"
   ]
  },
  {
   "cell_type": "markdown",
   "id": "ceb41c91",
   "metadata": {},
   "source": [
    "## Program Logic:"
   ]
  },
  {
   "cell_type": "markdown",
   "id": "ddfb00ce",
   "metadata": {},
   "source": [
    "1. Define a function to convert list into dictionary\n",
    "2. using dictionary comprehension\n",
    "3. Declare list\n",
    "4. print thre list"
   ]
  },
  {
   "cell_type": "code",
   "execution_count": 1,
   "id": "6eabc1ef",
   "metadata": {},
   "outputs": [],
   "source": [
    "def convert(list):\n",
    "    dictionary={list[i]: list[i+1] for i in range(0,len(list),2)}\n",
    "    return dictionary"
   ]
  },
  {
   "cell_type": "code",
   "execution_count": 3,
   "id": "5944f6fc",
   "metadata": {},
   "outputs": [
    {
     "name": "stdout",
     "output_type": "stream",
     "text": [
      "{'A': 'Apple', 'B': 'Bat', 'C': 'Cap', 'D': 'Dragon', 'E': 'Eagle'}\n"
     ]
    }
   ],
   "source": [
    "list=['A','Apple','B','Bat','C','Cap','D','Dragon','E','Eagle']\n",
    "print(convert(list))"
   ]
  }
 ],
 "metadata": {
  "kernelspec": {
   "display_name": "Python 3 (ipykernel)",
   "language": "python",
   "name": "python3"
  },
  "language_info": {
   "codemirror_mode": {
    "name": "ipython",
    "version": 3
   },
   "file_extension": ".py",
   "mimetype": "text/x-python",
   "name": "python",
   "nbconvert_exporter": "python",
   "pygments_lexer": "ipython3",
   "version": "3.9.7"
  }
 },
 "nbformat": 4,
 "nbformat_minor": 5
}
