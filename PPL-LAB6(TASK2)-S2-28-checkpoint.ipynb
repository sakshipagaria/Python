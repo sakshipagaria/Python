{
 "cells": [
  {
   "cell_type": "markdown",
   "id": "d6b78aca",
   "metadata": {},
   "source": [
    "# TASK: Program to find substring is present in given string sentence and count its occurence without using list"
   ]
  },
  {
   "cell_type": "markdown",
   "id": "7beea5fa",
   "metadata": {},
   "source": [
    "## Program Logic:"
   ]
  },
  {
   "cell_type": "markdown",
   "id": "92b3cfab",
   "metadata": {},
   "source": [
    "1. Take input from user for string\n",
    "2. Use find() string fucntion to check if string is present\n",
    "3. Use count() string fucntion to count the number of occurence of given substring"
   ]
  },
  {
   "cell_type": "code",
   "execution_count": 9,
   "id": "e3eefd8d",
   "metadata": {},
   "outputs": [
    {
     "name": "stdout",
     "output_type": "stream",
     "text": [
      "Enter the string here: Betty bought the butter but the butter was bitter so betty bought another butter to make the bitter butter better\n",
      "Enter the substring or word here: butter\n",
      "String contains the substring\n",
      "The count is:  4\n"
     ]
    }
   ],
   "source": [
    "string = input(\"Enter the string here: \")\n",
    "word = input(\"Enter the substring or word here: \")\n",
    "\n",
    "if (string.find(word)!= -1):\n",
    "    print(\"String contains the substring\")\n",
    "    \n",
    "else:\n",
    "    print(\"String doesn't contain the substring\")\n",
    "    \n",
    "count = string.count(word)\n",
    "print(\"The count is: \",count)"
   ]
  }
 ],
 "metadata": {
  "kernelspec": {
   "display_name": "Python 3 (ipykernel)",
   "language": "python",
   "name": "python3"
  },
  "language_info": {
   "codemirror_mode": {
    "name": "ipython",
    "version": 3
   },
   "file_extension": ".py",
   "mimetype": "text/x-python",
   "name": "python",
   "nbconvert_exporter": "python",
   "pygments_lexer": "ipython3",
   "version": "3.9.7"
  }
 },
 "nbformat": 4,
 "nbformat_minor": 5
}
