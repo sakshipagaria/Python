{
 "cells": [
  {
   "cell_type": "markdown",
   "id": "18b1afc8",
   "metadata": {},
   "source": [
    "# TASK: Program to find substring is present in given string using regular expression and string funciton"
   ]
  },
  {
   "cell_type": "markdown",
   "id": "a1ee871a",
   "metadata": {},
   "source": [
    "## Program Logic:"
   ]
  },
  {
   "cell_type": "markdown",
   "id": "381cc66d",
   "metadata": {},
   "source": [
    "1. Import the re module\n",
    "2. Declare 2 strings\n",
    "3. Use string function find() to find the substring"
   ]
  },
  {
   "cell_type": "code",
   "execution_count": 20,
   "id": "66037c07",
   "metadata": {},
   "outputs": [
    {
     "name": "stdout",
     "output_type": "stream",
     "text": [
      "Substring found\n",
      "Substring is present at index  10\n"
     ]
    }
   ],
   "source": [
    "import re\n",
    "\n",
    "string1=\"She sells sea shells at the sea shore\"\n",
    "string2=\"sea\"\n",
    "\n",
    "if (string1.find(\"sea\") != -1):\n",
    "    print(\"Substring found\")\n",
    "\n",
    "else:\n",
    "    print(\"Substring not found\")\n",
    "    \n",
    "print(\"Substring is present at index \",string1.find(\"sea\"))\n"
   ]
  }
 ],
 "metadata": {
  "kernelspec": {
   "display_name": "Python 3 (ipykernel)",
   "language": "python",
   "name": "python3"
  },
  "language_info": {
   "codemirror_mode": {
    "name": "ipython",
    "version": 3
   },
   "file_extension": ".py",
   "mimetype": "text/x-python",
   "name": "python",
   "nbconvert_exporter": "python",
   "pygments_lexer": "ipython3",
   "version": "3.9.7"
  }
 },
 "nbformat": 4,
 "nbformat_minor": 5
}
